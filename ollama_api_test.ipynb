{
 "cells": [
  {
   "cell_type": "code",
   "execution_count": 5,
   "id": "698fbe2f",
   "metadata": {},
   "outputs": [],
   "source": [
    "import requests\n",
    "\n",
    "# 生成文本\n",
    "response = requests.post(\n",
    "    \"http://localhost:11434/api/generate\",\n",
    "    json={\n",
    "        \"model\": \"QIHAO-8B\",\n",
    "        \"prompt\": \"你好，你能帮我写一段代码吗？\",\n",
    "        \"stream\": False\n",
    "    }\n",
    ")"
   ]
  },
  {
   "cell_type": "code",
   "execution_count": 6,
   "id": "0fb124f4",
   "metadata": {},
   "outputs": [],
   "source": [
    "res = response.json()"
   ]
  },
  {
   "cell_type": "code",
   "execution_count": 7,
   "id": "61cfc40e",
   "metadata": {},
   "outputs": [
    {
     "data": {
      "text/plain": [
       "{'model': 'QIHAO-8B',\n",
       " 'created_at': '2025-06-25T02:58:32.8689153Z',\n",
       " 'response': '本次任务你想请求帮助写什么代码？',\n",
       " 'done': True,\n",
       " 'done_reason': 'stop',\n",
       " 'context': [128006,\n",
       "  882,\n",
       "  128007,\n",
       "  271,\n",
       "  57668,\n",
       "  53901,\n",
       "  104660,\n",
       "  27327,\n",
       "  109438,\n",
       "  37046,\n",
       "  62543,\n",
       "  15120,\n",
       "  38574,\n",
       "  47200,\n",
       "  103054,\n",
       "  11571,\n",
       "  128009,\n",
       "  128006,\n",
       "  78191,\n",
       "  128007,\n",
       "  271,\n",
       "  22656,\n",
       "  33671,\n",
       "  89902,\n",
       "  57668,\n",
       "  101067,\n",
       "  35959,\n",
       "  123725,\n",
       "  62543,\n",
       "  101879,\n",
       "  47200,\n",
       "  11571],\n",
       " 'total_duration': 3210465100,\n",
       " 'load_duration': 2875907100,\n",
       " 'prompt_eval_count': 22,\n",
       " 'prompt_eval_duration': 203524200,\n",
       " 'eval_count': 12,\n",
       " 'eval_duration': 131033800}"
      ]
     },
     "execution_count": 7,
     "metadata": {},
     "output_type": "execute_result"
    }
   ],
   "source": [
    "res"
   ]
  }
 ],
 "metadata": {
  "kernelspec": {
   "display_name": "tutor_agent_backend",
   "language": "python",
   "name": "python3"
  },
  "language_info": {
   "codemirror_mode": {
    "name": "ipython",
    "version": 3
   },
   "file_extension": ".py",
   "mimetype": "text/x-python",
   "name": "python",
   "nbconvert_exporter": "python",
   "pygments_lexer": "ipython3",
   "version": "3.12.9"
  }
 },
 "nbformat": 4,
 "nbformat_minor": 5
}
